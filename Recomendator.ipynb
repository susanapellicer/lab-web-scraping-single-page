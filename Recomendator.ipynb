{
 "cells": [
  {
   "cell_type": "code",
   "execution_count": 1,
   "id": "d5ba6ea4",
   "metadata": {},
   "outputs": [],
   "source": [
    "import pandas as pd"
   ]
  },
  {
   "cell_type": "code",
   "execution_count": 2,
   "id": "c075514a",
   "metadata": {},
   "outputs": [],
   "source": [
    "data = pd.read_csv ('top100songs.csv')"
   ]
  },
  {
   "cell_type": "code",
   "execution_count": 3,
   "id": "a01fcea3",
   "metadata": {},
   "outputs": [
    {
     "data": {
      "text/html": [
       "<div>\n",
       "<style scoped>\n",
       "    .dataframe tbody tr th:only-of-type {\n",
       "        vertical-align: middle;\n",
       "    }\n",
       "\n",
       "    .dataframe tbody tr th {\n",
       "        vertical-align: top;\n",
       "    }\n",
       "\n",
       "    .dataframe thead th {\n",
       "        text-align: right;\n",
       "    }\n",
       "</style>\n",
       "<table border=\"1\" class=\"dataframe\">\n",
       "  <thead>\n",
       "    <tr style=\"text-align: right;\">\n",
       "      <th></th>\n",
       "      <th>title</th>\n",
       "      <th>artist</th>\n",
       "    </tr>\n",
       "  </thead>\n",
       "  <tbody>\n",
       "    <tr>\n",
       "      <th>0</th>\n",
       "      <td>81 Million Votes, My Ass</td>\n",
       "      <td>The Truth Bombers &amp; Kari Lake</td>\n",
       "    </tr>\n",
       "    <tr>\n",
       "      <th>1</th>\n",
       "      <td>Fast Car</td>\n",
       "      <td>Luke Combs</td>\n",
       "    </tr>\n",
       "    <tr>\n",
       "      <th>2</th>\n",
       "      <td>Last Night</td>\n",
       "      <td>Morgan Wallen</td>\n",
       "    </tr>\n",
       "    <tr>\n",
       "      <th>3</th>\n",
       "      <td>Take Two</td>\n",
       "      <td>BTS</td>\n",
       "    </tr>\n",
       "    <tr>\n",
       "      <th>4</th>\n",
       "      <td>Need A Favor</td>\n",
       "      <td>Jelly Roll</td>\n",
       "    </tr>\n",
       "    <tr>\n",
       "      <th>...</th>\n",
       "      <td>...</td>\n",
       "      <td>...</td>\n",
       "    </tr>\n",
       "    <tr>\n",
       "      <th>94</th>\n",
       "      <td>Praise (feat. Brandon Lake, Chris Brown &amp; Chan...</td>\n",
       "      <td>Elevation Worship</td>\n",
       "    </tr>\n",
       "    <tr>\n",
       "      <th>95</th>\n",
       "      <td>Perfect</td>\n",
       "      <td>Ed Sheeran</td>\n",
       "    </tr>\n",
       "    <tr>\n",
       "      <th>96</th>\n",
       "      <td>Cowgirls (feat. ERNEST)</td>\n",
       "      <td>Morgan Wallen</td>\n",
       "    </tr>\n",
       "    <tr>\n",
       "      <th>97</th>\n",
       "      <td>A Symptom Of Being Human</td>\n",
       "      <td>Shinedown</td>\n",
       "    </tr>\n",
       "    <tr>\n",
       "      <th>98</th>\n",
       "      <td>PLEBADA</td>\n",
       "      <td>El Alfa &amp; Peso Pluma</td>\n",
       "    </tr>\n",
       "  </tbody>\n",
       "</table>\n",
       "<p>99 rows × 2 columns</p>\n",
       "</div>"
      ],
      "text/plain": [
       "                                                title  \\\n",
       "0                            81 Million Votes, My Ass   \n",
       "1                                            Fast Car   \n",
       "2                                          Last Night   \n",
       "3                                            Take Two   \n",
       "4                                        Need A Favor   \n",
       "..                                                ...   \n",
       "94  Praise (feat. Brandon Lake, Chris Brown & Chan...   \n",
       "95                                            Perfect   \n",
       "96                            Cowgirls (feat. ERNEST)   \n",
       "97                           A Symptom Of Being Human   \n",
       "98                                            PLEBADA   \n",
       "\n",
       "                           artist  \n",
       "0   The Truth Bombers & Kari Lake  \n",
       "1                      Luke Combs  \n",
       "2                   Morgan Wallen  \n",
       "3                             BTS  \n",
       "4                      Jelly Roll  \n",
       "..                            ...  \n",
       "94              Elevation Worship  \n",
       "95                     Ed Sheeran  \n",
       "96                  Morgan Wallen  \n",
       "97                      Shinedown  \n",
       "98           El Alfa & Peso Pluma  \n",
       "\n",
       "[99 rows x 2 columns]"
      ]
     },
     "execution_count": 3,
     "metadata": {},
     "output_type": "execute_result"
    }
   ],
   "source": [
    "data"
   ]
  },
  {
   "cell_type": "code",
   "execution_count": 9,
   "id": "820c52f2",
   "metadata": {},
   "outputs": [
    {
     "name": "stdout",
     "output_type": "stream",
     "text": [
      "Enter a song name: PLEBADA\n",
      "Your song is in the Top 100 list!\n",
      "Here's another recommended song: Bust a Move\n"
     ]
    },
    {
     "data": {
      "text/plain": [
       "<function __main__.recommend_song(data)>"
      ]
     },
     "execution_count": 9,
     "metadata": {},
     "output_type": "execute_result"
    }
   ],
   "source": [
    "def recommend_song(data):\n",
    "    song = input(\"Enter a song name: \")\n",
    "    is_song_in_list = data['title'].isin([song]).any()\n",
    "    if is_song_in_list:\n",
    "        recommended_song = data.sample(n=1)['title'].values[0]\n",
    "        print(\"Your song is in the Top 100 list!\")\n",
    "        print(\"Here's another recommended song:\", recommended_song)\n",
    "    else:\n",
    "        print(\"Your song is not in the Top 100 list.\")\n",
    "        print(\"No recommendation available.\")\n",
    "\n",
    "recommend_song(data)\n",
    "recommend_song"
   ]
  },
  {
   "cell_type": "code",
   "execution_count": null,
   "id": "ff81d7e5",
   "metadata": {},
   "outputs": [],
   "source": [
    "\n"
   ]
  }
 ],
 "metadata": {
  "kernelspec": {
   "display_name": "Python 3 (ipykernel)",
   "language": "python",
   "name": "python3"
  },
  "language_info": {
   "codemirror_mode": {
    "name": "ipython",
    "version": 3
   },
   "file_extension": ".py",
   "mimetype": "text/x-python",
   "name": "python",
   "nbconvert_exporter": "python",
   "pygments_lexer": "ipython3",
   "version": "3.10.9"
  }
 },
 "nbformat": 4,
 "nbformat_minor": 5
}
